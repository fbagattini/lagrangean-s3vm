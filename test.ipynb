{
 "cells": [
  {
   "cell_type": "code",
   "execution_count": 1,
   "metadata": {
    "collapsed": false
   },
   "outputs": [],
   "source": [
    "from __future__ import division\n",
    "#\n",
    "import numpy as np\n",
    "from sklearn.svm import SVC\n",
    "import cPickle as pickle\n",
    "#\n",
    "from lagrangian_s3vm import *\n",
    "from utils import *\n",
    "\n",
    "%load_ext autoreload\n",
    "%autoreload 2"
   ]
  },
  {
   "cell_type": "code",
   "execution_count": 2,
   "metadata": {
    "collapsed": false
   },
   "outputs": [
    {
     "name": "stdout",
     "output_type": "stream",
     "text": [
      "trial:0 error:0.00\n",
      "trial:1 error:0.00\n",
      "trial:2 error:6.90\n",
      "trial:3 error:0.00\n",
      "trial:4 error:3.45\n",
      "trial:5 error:3.45\n",
      "trial:6 error:0.00\n",
      "trial:7 error:0.00\n",
      "trial:8 error:0.00\n",
      "trial:9 error:0.00\n",
      "average error: 1.38+-2.29\n",
      "\n"
     ]
    }
   ],
   "source": [
    "#test on coil20, objects 3 and 6\n",
    "rdm = np.random.RandomState()\n",
    "objects = (3,6)#objects to classify\n",
    "l = 25#labeled samples\n",
    "u = 90#unlabeled ones\n",
    "r = .5#positive samples ratio\n",
    "\n",
    "errors = []\n",
    "for trial in range(10):\n",
    "    \n",
    "    #load a random sample of data and targets\n",
    "    rdm.seed(trial)\n",
    "    xtrain_l, ytrain_l, xtrain_u, xtest, ytest = get_coil(objects, l, u, rdm=rdm)\n",
    "    \n",
    "    #get a model by cross-validating on the labeled set\n",
    "    svc = get_best_estimator_by_cv(xtrain_l, ytrain_l, 5)\n",
    "    \n",
    "    #train the semi-supervised model\n",
    "    lagr_s3vc = lagrangian_s3vm_train(xtrain_l,\n",
    "                                      ytrain_l,\n",
    "                                      xtrain_u,\n",
    "                                      svc,\n",
    "                                      r=r,\n",
    "                                      rdm=rdm)\n",
    "    \n",
    "    #evaluate accuracy\n",
    "    error = 100*(1-lagr_s3vc.score(xtest, ytest))\n",
    "    print 'trial:{} error:{:.2f}'.format(trial, error)\n",
    "    errors += [error]\n",
    "print 'average error: %.2f+-%.2f\\n' % (np.mean(errors), np.std(errors))"
   ]
  }
 ],
 "metadata": {
  "kernelspec": {
   "display_name": "Python 2",
   "language": "python",
   "name": "python2"
  },
  "language_info": {
   "codemirror_mode": {
    "name": "ipython",
    "version": 2
   },
   "file_extension": ".py",
   "mimetype": "text/x-python",
   "name": "python",
   "nbconvert_exporter": "python",
   "pygments_lexer": "ipython2",
   "version": "2.7.12"
  }
 },
 "nbformat": 4,
 "nbformat_minor": 0
}
